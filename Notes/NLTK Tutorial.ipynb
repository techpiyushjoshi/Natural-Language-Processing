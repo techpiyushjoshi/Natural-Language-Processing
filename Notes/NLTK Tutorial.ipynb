{
 "cells": [
  {
   "cell_type": "code",
   "execution_count": null,
   "metadata": {
    "ExecuteTime": {
     "end_time": "2021-04-13T04:35:31.692704Z",
     "start_time": "2021-04-13T04:35:16.047146Z"
    },
    "id": "i1YwiMFF8sFp",
    "outputId": "9d9521c5-28ed-41fe-9619-5f8671942153"
   },
   "outputs": [
    {
     "name": "stdout",
     "output_type": "stream",
     "text": [
      "/home/avinash/anaconda3/lib/python3.8/site-packages/secretstorage/dhcrypto.py:16: CryptographyDeprecationWarning: int_from_bytes is deprecated, use int.from_bytes instead\n",
      "  from cryptography.utils import int_from_bytes\n",
      "/home/avinash/anaconda3/lib/python3.8/site-packages/secretstorage/util.py:25: CryptographyDeprecationWarning: int_from_bytes is deprecated, use int.from_bytes instead\n",
      "  from cryptography.utils import int_from_bytes\n",
      "Requirement already satisfied: nltk in /home/avinash/anaconda3/lib/python3.8/site-packages (3.5)\n",
      "Requirement already satisfied: click in /home/avinash/anaconda3/lib/python3.8/site-packages (from nltk) (7.1.2)\n",
      "Requirement already satisfied: tqdm in /home/avinash/anaconda3/lib/python3.8/site-packages (from nltk) (4.50.2)\n",
      "Requirement already satisfied: joblib in /home/avinash/anaconda3/lib/python3.8/site-packages (from nltk) (0.16.0)\n",
      "Requirement already satisfied: regex in /home/avinash/anaconda3/lib/python3.8/site-packages (from nltk) (2020.9.27)\n"
     ]
    }
   ],
   "source": [
    "!pip install nltk"
   ]
  },
  {
   "cell_type": "code",
   "execution_count": null,
   "metadata": {
    "ExecuteTime": {
     "end_time": "2021-04-19T04:03:18.719688Z",
     "start_time": "2021-04-19T04:03:18.715212Z"
    },
    "id": "BaWR9Tp98sFs"
   },
   "outputs": [],
   "source": [
    "text=\"\"\"The nervous system and brain function do not often associate with infectious diseases, but numerous infectious agents affect the brain and peripheral neurons in deleterious ways. Infectious agents often behave differently in the brain than in the circulation or other organs, complicating matters for scientists working to stop neurotropic infectious diseases.\"\"\""
   ]
  },
  {
   "cell_type": "code",
   "execution_count": null,
   "metadata": {
    "ExecuteTime": {
     "end_time": "2021-04-19T04:03:24.209065Z",
     "start_time": "2021-04-19T04:03:24.202376Z"
    },
    "id": "mJio35Hd8sFs",
    "outputId": "239d6244-30f1-4207-8b23-2641ad2b3afb"
   },
   "outputs": [
    {
     "data": {
      "text/plain": [
       "'The nervous system and brain function do not often associate with infectious diseases, but numerous infectious agents affect the brain and peripheral neurons in deleterious ways. Infectious agents often behave differently in the brain than in the circulation or other organs, complicating matters for scientists working to stop neurotropic infectious diseases.'"
      ]
     },
     "execution_count": 29,
     "metadata": {
      "tags": []
     },
     "output_type": "execute_result"
    }
   ],
   "source": [
    "text"
   ]
  },
  {
   "cell_type": "markdown",
   "metadata": {
    "id": "e057D_RZ8sFt"
   },
   "source": [
    "## Normalize: Lowercase"
   ]
  },
  {
   "cell_type": "code",
   "execution_count": null,
   "metadata": {
    "ExecuteTime": {
     "end_time": "2021-04-19T04:03:37.656287Z",
     "start_time": "2021-04-19T04:03:37.651811Z"
    },
    "id": "7-BnIXoJ8sFt"
   },
   "outputs": [],
   "source": [
    "text=text.lower()"
   ]
  },
  {
   "cell_type": "code",
   "execution_count": null,
   "metadata": {
    "ExecuteTime": {
     "end_time": "2021-04-19T04:03:44.462536Z",
     "start_time": "2021-04-19T04:03:44.456373Z"
    },
    "id": "OImCSCmc8sFu",
    "outputId": "a3f55d35-50b5-421a-a0f1-49a7361e092e"
   },
   "outputs": [
    {
     "data": {
      "text/plain": [
       "'the nervous system and brain function do not often associate with infectious diseases, but numerous infectious agents affect the brain and peripheral neurons in deleterious ways. infectious agents often behave differently in the brain than in the circulation or other organs, complicating matters for scientists working to stop neurotropic infectious diseases.'"
      ]
     },
     "execution_count": 31,
     "metadata": {
      "tags": []
     },
     "output_type": "execute_result"
    }
   ],
   "source": [
    "text"
   ]
  },
  {
   "cell_type": "markdown",
   "metadata": {
    "id": "J3RUlLzc8sFu"
   },
   "source": [
    "## Tokenization"
   ]
  },
  {
   "cell_type": "code",
   "execution_count": null,
   "metadata": {
    "ExecuteTime": {
     "end_time": "2021-04-19T04:04:36.766297Z",
     "start_time": "2021-04-19T04:04:36.759175Z"
    },
    "id": "412C3q4i8sFv",
    "outputId": "0ed5323b-8ccf-4728-da8e-4ea32d36e430"
   },
   "outputs": [
    {
     "data": {
      "text/plain": [
       "['the nervous system and brain function do not often associate with infectious diseases, but numerous infectious agents affect the brain and peripheral neurons in deleterious ways.',\n",
       " 'infectious agents often behave differently in the brain than in the circulation or other organs, complicating matters for scientists working to stop neurotropic infectious diseases.']"
      ]
     },
     "execution_count": 32,
     "metadata": {
      "tags": []
     },
     "output_type": "execute_result"
    }
   ],
   "source": [
    "from nltk.tokenize import sent_tokenize\n",
    "\n",
    "sent_tokenize(text)"
   ]
  },
  {
   "cell_type": "code",
   "execution_count": null,
   "metadata": {
    "ExecuteTime": {
     "end_time": "2021-04-19T04:04:56.588231Z",
     "start_time": "2021-04-19T04:04:56.580777Z"
    },
    "id": "LDoPg-978sFv",
    "outputId": "ab2aac65-af47-4594-ef8b-beb1721fd361"
   },
   "outputs": [
    {
     "name": "stdout",
     "output_type": "stream",
     "text": [
      "['the', 'nervous', 'system', 'and', 'brain', 'function', 'do', 'not', 'often', 'associate', 'with', 'infectious', 'diseases', ',', 'but', 'numerous', 'infectious', 'agents', 'affect', 'the', 'brain', 'and', 'peripheral', 'neurons', 'in', 'deleterious', 'ways', '.', 'infectious', 'agents', 'often', 'behave', 'differently', 'in', 'the', 'brain', 'than', 'in', 'the', 'circulation', 'or', 'other', 'organs', ',', 'complicating', 'matters', 'for', 'scientists', 'working', 'to', 'stop', 'neurotropic', 'infectious', 'diseases', '.']\n"
     ]
    }
   ],
   "source": [
    "from nltk.tokenize import word_tokenize\n",
    "\n",
    "tokens=word_tokenize(text)\n",
    "\n",
    "print(tokens)"
   ]
  },
  {
   "cell_type": "markdown",
   "metadata": {
    "id": "wW1hOH--8sFw"
   },
   "source": [
    "## Frequency Distribution"
   ]
  },
  {
   "cell_type": "code",
   "execution_count": null,
   "metadata": {
    "ExecuteTime": {
     "end_time": "2021-04-19T04:05:53.144695Z",
     "start_time": "2021-04-19T04:05:53.138441Z"
    },
    "id": "Sxfa1zjw8sFw",
    "outputId": "5e042ecf-9d9f-4236-8754-a36e45ac97b2"
   },
   "outputs": [
    {
     "data": {
      "text/plain": [
       "FreqDist({'the': 4, 'infectious': 4, 'brain': 3, 'in': 3, 'and': 2, 'often': 2, 'diseases': 2, ',': 2, 'agents': 2, '.': 2, ...})"
      ]
     },
     "execution_count": 34,
     "metadata": {
      "tags": []
     },
     "output_type": "execute_result"
    }
   ],
   "source": [
    "from nltk.probability import FreqDist\n",
    "\n",
    "dist=FreqDist(tokens)\n",
    "\n",
    "dist"
   ]
  },
  {
   "cell_type": "code",
   "execution_count": null,
   "metadata": {
    "ExecuteTime": {
     "end_time": "2021-04-19T04:06:34.087209Z",
     "start_time": "2021-04-19T04:06:34.081321Z"
    },
    "id": "pZaTCbXg8sFx",
    "outputId": "f2508818-e312-46ef-fd5b-c489a6900c39"
   },
   "outputs": [
    {
     "data": {
      "text/plain": [
       "[('the', 4), ('infectious', 4)]"
      ]
     },
     "execution_count": 35,
     "metadata": {
      "tags": []
     },
     "output_type": "execute_result"
    }
   ],
   "source": [
    "dist.most_common(2)"
   ]
  },
  {
   "cell_type": "code",
   "execution_count": null,
   "metadata": {
    "ExecuteTime": {
     "end_time": "2021-04-19T04:06:36.589811Z",
     "start_time": "2021-04-19T04:06:36.583620Z"
    },
    "id": "Rre7Gt498sFx",
    "outputId": "a6c5ae7c-8a78-4d4e-b271-8862d07e1a23"
   },
   "outputs": [
    {
     "data": {
      "text/plain": [
       "'the'"
      ]
     },
     "execution_count": 36,
     "metadata": {
      "tags": []
     },
     "output_type": "execute_result"
    }
   ],
   "source": [
    "dist.max()"
   ]
  },
  {
   "cell_type": "code",
   "execution_count": null,
   "metadata": {
    "ExecuteTime": {
     "end_time": "2021-04-19T04:06:47.559596Z",
     "start_time": "2021-04-19T04:06:47.554982Z"
    },
    "id": "TdQUnQ788sFy",
    "outputId": "5aefeb92-5aca-4933-9f49-ad3f394c0078"
   },
   "outputs": [
    {
     "data": {
      "text/plain": [
       "3"
      ]
     },
     "execution_count": 37,
     "metadata": {
      "tags": []
     },
     "output_type": "execute_result"
    }
   ],
   "source": [
    "dist['brain']"
   ]
  },
  {
   "cell_type": "code",
   "execution_count": null,
   "metadata": {
    "ExecuteTime": {
     "end_time": "2021-04-19T04:07:12.949859Z",
     "start_time": "2021-04-19T04:07:12.813967Z"
    },
    "id": "OjS6DiJH8sFy",
    "outputId": "a6eb8dd6-f0c4-4616-f26f-0036ace9e860"
   },
   "outputs": [
    {
     "data": {
      "image/png": "[encoded data removed]",
      "text/plain": [
       "<Figure size 432x288 with 1 Axes>"
      ]
     },
     "metadata": {
      "needs_background": "light",
      "tags": []
     },
     "output_type": "display_data"
    },
    {
     "data": {
      "text/plain": [
       "<matplotlib.axes._subplots.AxesSubplot at 0x7fbe0e656e80>"
      ]
     },
     "execution_count": 38,
     "metadata": {
      "tags": []
     },
     "output_type": "execute_result"
    }
   ],
   "source": [
    "import matplotlib.pyplot as plt\n",
    "\n",
    "dist.plot(10, cumulative=False)"
   ]
  },
  {
   "cell_type": "markdown",
   "metadata": {
    "id": "s2tvCyr68sFy"
   },
   "source": [
    "## Frequency Distribution for Bigrams"
   ]
  },
  {
   "cell_type": "code",
   "execution_count": null,
   "metadata": {
    "ExecuteTime": {
     "end_time": "2021-04-19T04:09:10.079141Z",
     "start_time": "2021-04-19T04:09:10.074649Z"
    },
    "id": "nGCVG6jH8sFz"
   },
   "outputs": [],
   "source": [
    "from nltk import ngrams"
   ]
  },
  {
   "cell_type": "code",
   "execution_count": null,
   "metadata": {
    "ExecuteTime": {
     "end_time": "2021-04-19T04:09:10.629125Z",
     "start_time": "2021-04-19T04:09:10.617315Z"
    },
    "id": "J_9zpIPe8sFz",
    "outputId": "c76ff453-829d-4952-f1d5-623202bebfb5"
   },
   "outputs": [
    {
     "data": {
      "text/plain": [
       "[('the', 'nervous'),\n",
       " ('nervous', 'system'),\n",
       " ('system', 'and'),\n",
       " ('and', 'brain'),\n",
       " ('brain', 'function'),\n",
       " ('function', 'do'),\n",
       " ('do', 'not'),\n",
       " ('not', 'often'),\n",
       " ('often', 'associate'),\n",
       " ('associate', 'with'),\n",
       " ('with', 'infectious'),\n",
       " ('infectious', 'diseases'),\n",
       " ('diseases', ','),\n",
       " (',', 'but'),\n",
       " ('but', 'numerous'),\n",
       " ('numerous', 'infectious'),\n",
       " ('infectious', 'agents'),\n",
       " ('agents', 'affect'),\n",
       " ('affect', 'the'),\n",
       " ('the', 'brain'),\n",
       " ('brain', 'and'),\n",
       " ('and', 'peripheral'),\n",
       " ('peripheral', 'neurons'),\n",
       " ('neurons', 'in'),\n",
       " ('in', 'deleterious'),\n",
       " ('deleterious', 'ways'),\n",
       " ('ways', '.'),\n",
       " ('.', 'infectious'),\n",
       " ('infectious', 'agents'),\n",
       " ('agents', 'often'),\n",
       " ('often', 'behave'),\n",
       " ('behave', 'differently'),\n",
       " ('differently', 'in'),\n",
       " ('in', 'the'),\n",
       " ('the', 'brain'),\n",
       " ('brain', 'than'),\n",
       " ('than', 'in'),\n",
       " ('in', 'the'),\n",
       " ('the', 'circulation'),\n",
       " ('circulation', 'or'),\n",
       " ('or', 'other'),\n",
       " ('other', 'organs'),\n",
       " ('organs', ','),\n",
       " (',', 'complicating'),\n",
       " ('complicating', 'matters'),\n",
       " ('matters', 'for'),\n",
       " ('for', 'scientists'),\n",
       " ('scientists', 'working'),\n",
       " ('working', 'to'),\n",
       " ('to', 'stop'),\n",
       " ('stop', 'neurotropic'),\n",
       " ('neurotropic', 'infectious'),\n",
       " ('infectious', 'diseases'),\n",
       " ('diseases', '.')]"
      ]
     },
     "execution_count": 40,
     "metadata": {
      "tags": []
     },
     "output_type": "execute_result"
    }
   ],
   "source": [
    "list(ngrams(tokens,2))"
   ]
  },
  {
   "cell_type": "code",
   "execution_count": null,
   "metadata": {
    "ExecuteTime": {
     "end_time": "2021-04-19T04:09:11.289105Z",
     "start_time": "2021-04-19T04:09:11.282378Z"
    },
    "id": "ezwncOgo8sFz",
    "outputId": "550ef200-a6b7-443a-ddd0-3453142133bd"
   },
   "outputs": [
    {
     "data": {
      "text/plain": [
       "FreqDist({('infectious', 'diseases'): 2, ('infectious', 'agents'): 2, ('the', 'brain'): 2, ('in', 'the'): 2, ('the', 'nervous'): 1, ('nervous', 'system'): 1, ('system', 'and'): 1, ('and', 'brain'): 1, ('brain', 'function'): 1, ('function', 'do'): 1, ...})"
      ]
     },
     "execution_count": 41,
     "metadata": {
      "tags": []
     },
     "output_type": "execute_result"
    }
   ],
   "source": [
    "bi_dist=FreqDist(ngrams(tokens,2))\n",
    "bi_dist"
   ]
  },
  {
   "cell_type": "code",
   "execution_count": null,
   "metadata": {
    "ExecuteTime": {
     "end_time": "2021-04-19T04:09:13.603973Z",
     "start_time": "2021-04-19T04:09:13.461129Z"
    },
    "id": "t-ggCbDk8sF0",
    "outputId": "4a9b62ee-7487-4c6e-c9ab-c16a4b27f782"
   },
   "outputs": [
    {
     "data": {
      "image/png": "[encoded data removed]",
      "text/plain": [
       "<Figure size 432x288 with 1 Axes>"
      ]
     },
     "metadata": {
      "needs_background": "light",
      "tags": []
     },
     "output_type": "display_data"
    },
    {
     "data": {
      "text/plain": [
       "<matplotlib.axes._subplots.AxesSubplot at 0x7fbe06de8f40>"
      ]
     },
     "execution_count": 42,
     "metadata": {
      "tags": []
     },
     "output_type": "execute_result"
    }
   ],
   "source": [
    "bi_dist.plot(10)"
   ]
  },
  {
   "cell_type": "markdown",
   "metadata": {
    "id": "ycD1W-6C8sF0"
   },
   "source": [
    "## Removing Stopwords and Punctuations"
   ]
  },
  {
   "cell_type": "code",
   "execution_count": null,
   "metadata": {
    "ExecuteTime": {
     "end_time": "2021-04-19T04:32:35.080522Z",
     "start_time": "2021-04-19T04:32:35.074195Z"
    },
    "id": "zyE_YTll8sF0"
   },
   "outputs": [],
   "source": [
    "from nltk.corpus import stopwords"
   ]
  },
  {
   "cell_type": "code",
   "execution_count": null,
   "metadata": {
    "ExecuteTime": {
     "end_time": "2021-04-19T04:32:35.684281Z",
     "start_time": "2021-04-19T04:32:35.649061Z"
    },
    "id": "0wcc7Gy28sF1",
    "outputId": "bb96b85f-272a-4091-bd22-c72ef531aaca"
   },
   "outputs": [
    {
     "name": "stdout",
     "output_type": "stream",
     "text": [
      "['i', 'me', 'my', 'myself', 'we', 'our', 'ours', 'ourselves', 'you', \"you're\", \"you've\", \"you'll\", \"you'd\", 'your', 'yours', 'yourself', 'yourselves', 'he', 'him', 'his', 'himself', 'she', \"she's\", 'her', 'hers', 'herself', 'it', \"it's\", 'its', 'itself', 'they', 'them', 'their', 'theirs', 'themselves', 'what', 'which', 'who', 'whom', 'this', 'that', \"that'll\", 'these', 'those', 'am', 'is', 'are', 'was', 'were', 'be', 'been', 'being', 'have', 'has', 'had', 'having', 'do', 'does', 'did', 'doing', 'a', 'an', 'the', 'and', 'but', 'if', 'or', 'because', 'as', 'until', 'while', 'of', 'at', 'by', 'for', 'with', 'about', 'against', 'between', 'into', 'through', 'during', 'before', 'after', 'above', 'below', 'to', 'from', 'up', 'down', 'in', 'out', 'on', 'off', 'over', 'under', 'again', 'further', 'then', 'once', 'here', 'there', 'when', 'where', 'why', 'how', 'all', 'any', 'both', 'each', 'few', 'more', 'most', 'other', 'some', 'such', 'no', 'nor', 'not', 'only', 'own', 'same', 'so', 'than', 'too', 'very', 's', 't', 'can', 'will', 'just', 'don', \"don't\", 'should', \"should've\", 'now', 'd', 'll', 'm', 'o', 're', 've', 'y', 'ain', 'aren', \"aren't\", 'couldn', \"couldn't\", 'didn', \"didn't\", 'doesn', \"doesn't\", 'hadn', \"hadn't\", 'hasn', \"hasn't\", 'haven', \"haven't\", 'isn', \"isn't\", 'ma', 'mightn', \"mightn't\", 'mustn', \"mustn't\", 'needn', \"needn't\", 'shan', \"shan't\", 'shouldn', \"shouldn't\", 'wasn', \"wasn't\", 'weren', \"weren't\", 'won', \"won't\", 'wouldn', \"wouldn't\"]\n"
     ]
    }
   ],
   "source": [
    "stop=list(stopwords.words(\"english\"))\n",
    "\n",
    "print(stop)"
   ]
  },
  {
   "cell_type": "code",
   "execution_count": null,
   "metadata": {
    "ExecuteTime": {
     "end_time": "2021-04-19T04:32:56.887625Z",
     "start_time": "2021-04-19T04:32:56.881897Z"
    },
    "id": "VEsMeXDo8sF1",
    "outputId": "1720ce7c-d805-4f1a-ae9b-12cfb79331b2"
   },
   "outputs": [
    {
     "name": "stdout",
     "output_type": "stream",
     "text": [
      "['!', '\"', '#', '$', '%', '&', \"'\", '(', ')', '*', '+', ',', '-', '.', '/', ':', ';', '<', '=', '>', '?', '@', '[', '\\\\', ']', '^', '_', '`', '{', '|', '}', '~']\n"
     ]
    }
   ],
   "source": [
    "import string\n",
    "\n",
    "punc=list(string.punctuation)\n",
    "\n",
    "print(punc)"
   ]
  },
  {
   "cell_type": "code",
   "execution_count": null,
   "metadata": {
    "id": "0PYRz7gy-fmR"
   },
   "outputs": [],
   "source": []
  },
  {
   "cell_type": "code",
   "execution_count": null,
   "metadata": {
    "id": "9czDH05--fkf"
   },
   "outputs": [],
   "source": []
  },
  {
   "cell_type": "markdown",
   "metadata": {
    "id": "ZKVLojnB-fgd"
   },
   "source": []
  },
  {
   "cell_type": "markdown",
   "metadata": {
    "id": "8m2r2_Us-fd_"
   },
   "source": []
  },
  {
   "cell_type": "code",
   "execution_count": null,
   "metadata": {
    "ExecuteTime": {
     "end_time": "2021-04-19T03:50:45.426354Z",
     "start_time": "2021-04-19T03:50:45.385466Z"
    },
    "id": "mpCztDlP8sF1",
    "outputId": "3ad620a9-f577-4875-c657-4fe3ef79df55"
   },
   "outputs": [
    {
     "name": "stdout",
     "output_type": "stream",
     "text": [
      "['i', 'me', 'my', 'myself', 'we', 'our', 'ours', 'ourselves', 'you', \"you're\", \"you've\", \"you'll\", \"you'd\", 'your', 'yours', 'yourself', 'yourselves', 'he', 'him', 'his', 'himself', 'she', \"she's\", 'her', 'hers', 'herself', 'it', \"it's\", 'its', 'itself', 'they', 'them', 'their', 'theirs', 'themselves', 'what', 'which', 'who', 'whom', 'this', 'that', \"that'll\", 'these', 'those', 'am', 'is', 'are', 'was', 'were', 'be', 'been', 'being', 'have', 'has', 'had', 'having', 'do', 'does', 'did', 'doing', 'a', 'an', 'the', 'and', 'but', 'if', 'or', 'because', 'as', 'until', 'while', 'of', 'at', 'by', 'for', 'with', 'about', 'against', 'between', 'into', 'through', 'during', 'before', 'after', 'above', 'below', 'to', 'from', 'up', 'down', 'in', 'out', 'on', 'off', 'over', 'under', 'again', 'further', 'then', 'once', 'here', 'there', 'when', 'where', 'why', 'how', 'all', 'any', 'both', 'each', 'few', 'more', 'most', 'other', 'some', 'such', 'no', 'nor', 'not', 'only', 'own', 'same', 'so', 'than', 'too', 'very', 's', 't', 'can', 'will', 'just', 'don', \"don't\", 'should', \"should've\", 'now', 'd', 'll', 'm', 'o', 're', 've', 'y', 'ain', 'aren', \"aren't\", 'couldn', \"couldn't\", 'didn', \"didn't\", 'doesn', \"doesn't\", 'hadn', \"hadn't\", 'hasn', \"hasn't\", 'haven', \"haven't\", 'isn', \"isn't\", 'ma', 'mightn', \"mightn't\", 'mustn', \"mustn't\", 'needn', \"needn't\", 'shan', \"shan't\", 'shouldn', \"shouldn't\", 'wasn', \"wasn't\", 'weren', \"weren't\", 'won', \"won't\", 'wouldn', \"wouldn't\", '!', '\"', '#', '$', '%', '&', \"'\", '(', ')', '*', '+', ',', '-', '.', '/', ':', ';', '<', '=', '>', '?', '@', '[', '\\\\', ']', '^', '_', '`', '{', '|', '}', '~']\n"
     ]
    }
   ],
   "source": [
    "print(stop+punc)"
   ]
  },
  {
   "cell_type": "code",
   "execution_count": null,
   "metadata": {
    "ExecuteTime": {
     "end_time": "2021-04-19T04:33:32.566212Z",
     "start_time": "2021-04-19T04:33:32.552529Z"
    },
    "id": "ad4RroGm8sF1",
    "outputId": "307bac2a-1d37-4c95-d072-caf89ed09214"
   },
   "outputs": [
    {
     "name": "stdout",
     "output_type": "stream",
     "text": [
      "the\n",
      "and\n",
      "do\n",
      "not\n",
      "with\n",
      ",\n",
      "but\n",
      "the\n",
      "and\n",
      "in\n",
      ".\n",
      "in\n",
      "the\n",
      "than\n",
      "in\n",
      "the\n",
      "or\n",
      "other\n",
      ",\n",
      "for\n",
      "to\n",
      ".\n"
     ]
    }
   ],
   "source": [
    "filtered_tokens=[]\n",
    "# Filtering stopwords and punctuations\n",
    "for token in tokens:\n",
    "    if token not in stop+punc:\n",
    "        filtered_tokens.append(token)\n",
    "    else:\n",
    "        print(token)"
   ]
  },
  {
   "cell_type": "code",
   "execution_count": null,
   "metadata": {
    "ExecuteTime": {
     "end_time": "2021-04-19T04:33:43.972179Z",
     "start_time": "2021-04-19T04:33:43.830824Z"
    },
    "id": "BFqfY1KS8sF2",
    "outputId": "7eaab6cc-7ae5-45a1-afa0-340b77732b74"
   },
   "outputs": [
    {
     "data": {
      "image/png": "[encoded data removed]",
      "text/plain": [
       "<Figure size 432x288 with 1 Axes>"
      ]
     },
     "metadata": {
      "needs_background": "light",
      "tags": []
     },
     "output_type": "display_data"
    },
    {
     "data": {
      "text/plain": [
       "<matplotlib.axes._subplots.AxesSubplot at 0x7fbe06a4ed00>"
      ]
     },
     "execution_count": 60,
     "metadata": {
      "tags": []
     },
     "output_type": "execute_result"
    }
   ],
   "source": [
    "FreqDist(filtered_tokens).plot(10)"
   ]
  },
  {
   "cell_type": "markdown",
   "metadata": {
    "ExecuteTime": {
     "end_time": "2021-04-13T05:07:40.115713Z",
     "start_time": "2021-04-13T05:07:40.112728Z"
    },
    "id": "bzRU-N9F8sF2"
   },
   "source": [
    "## Lexicon Normalization :Stemming and Lemmatization"
   ]
  },
  {
   "cell_type": "code",
   "execution_count": null,
   "metadata": {
    "ExecuteTime": {
     "end_time": "2021-04-19T04:12:09.484736Z",
     "start_time": "2021-04-19T04:12:09.475036Z"
    },
    "id": "2Aw58WXV8sF2",
    "outputId": "fb995f98-f0b3-4c7c-859d-1200327380e3"
   },
   "outputs": [
    {
     "name": "stdout",
     "output_type": "stream",
     "text": [
      "Lemmatized Word: unconnected\n",
      "Stemmed Word: unconnect\n"
     ]
    }
   ],
   "source": [
    "from nltk.stem.wordnet import WordNetLemmatizer\n",
    "from nltk.stem.porter import PorterStemmer\n",
    "\n",
    "lem = WordNetLemmatizer()\n",
    "stem = PorterStemmer()\n",
    "\n",
    "word = \"unconnected\"\n",
    "\n",
    "print(\"Lemmatized Word:\",lem.lemmatize(word,\"v\"))\n",
    "\n",
    "print(\"Stemmed Word:\",stem.stem(word))"
   ]
  },
  {
   "cell_type": "markdown",
   "metadata": {
    "id": "tLYY2Gm88sF3"
   },
   "source": [
    "## PoS Tag"
   ]
  },
  {
   "cell_type": "code",
   "execution_count": null,
   "metadata": {
    "ExecuteTime": {
     "end_time": "2021-04-19T03:50:47.492916Z",
     "start_time": "2021-04-19T03:50:47.226870Z"
    },
    "id": "MCL7g-6w8sF3",
    "outputId": "22e3a01e-2090-4dfa-f0c7-10c6fa72b4e8"
   },
   "outputs": [
    {
     "data": {
      "text/plain": [
       "7"
      ]
     },
     "execution_count": 23,
     "metadata": {
      "tags": []
     },
     "output_type": "execute_result"
    }
   ],
   "source": [
    "from nltk import pos_tag\n",
    "\n",
    "list(dict(pos_tag(tokens)).values()).count('JJ')"
   ]
  },
  {
   "cell_type": "code",
   "execution_count": null,
   "metadata": {
    "ExecuteTime": {
     "end_time": "2021-04-19T04:13:05.954447Z",
     "start_time": "2021-04-19T04:13:05.938173Z"
    },
    "id": "ZeGs1YTu8sF3",
    "outputId": "06cd1754-a77f-463b-81d7-dacc066d7979"
   },
   "outputs": [
    {
     "data": {
      "text/plain": [
       "[('the', 'DT'),\n",
       " ('nervous', 'JJ'),\n",
       " ('system', 'NN'),\n",
       " ('and', 'CC'),\n",
       " ('brain', 'NN'),\n",
       " ('function', 'NN'),\n",
       " ('do', 'VBP'),\n",
       " ('not', 'RB'),\n",
       " ('often', 'RB'),\n",
       " ('associate', 'JJ'),\n",
       " ('with', 'IN'),\n",
       " ('infectious', 'JJ'),\n",
       " ('diseases', 'NNS'),\n",
       " (',', ','),\n",
       " ('but', 'CC'),\n",
       " ('numerous', 'JJ'),\n",
       " ('infectious', 'JJ'),\n",
       " ('agents', 'NNS'),\n",
       " ('affect', 'VBP'),\n",
       " ('the', 'DT'),\n",
       " ('brain', 'NN'),\n",
       " ('and', 'CC'),\n",
       " ('peripheral', 'JJ'),\n",
       " ('neurons', 'NNS'),\n",
       " ('in', 'IN'),\n",
       " ('deleterious', 'JJ'),\n",
       " ('ways', 'NNS'),\n",
       " ('.', '.'),\n",
       " ('infectious', 'JJ'),\n",
       " ('agents', 'NNS'),\n",
       " ('often', 'RB'),\n",
       " ('behave', 'VBP'),\n",
       " ('differently', 'RB'),\n",
       " ('in', 'IN'),\n",
       " ('the', 'DT'),\n",
       " ('brain', 'NN'),\n",
       " ('than', 'IN'),\n",
       " ('in', 'IN'),\n",
       " ('the', 'DT'),\n",
       " ('circulation', 'NN'),\n",
       " ('or', 'CC'),\n",
       " ('other', 'JJ'),\n",
       " ('organs', 'NNS'),\n",
       " (',', ','),\n",
       " ('complicating', 'VBG'),\n",
       " ('matters', 'NNS'),\n",
       " ('for', 'IN'),\n",
       " ('scientists', 'NNS'),\n",
       " ('working', 'VBG'),\n",
       " ('to', 'TO'),\n",
       " ('stop', 'VB'),\n",
       " ('neurotropic', 'RB'),\n",
       " ('infectious', 'JJ'),\n",
       " ('diseases', 'NNS'),\n",
       " ('.', '.')]"
      ]
     },
     "execution_count": 45,
     "metadata": {
      "tags": []
     },
     "output_type": "execute_result"
    }
   ],
   "source": [
    "pos_tag(tokens)"
   ]
  },
  {
   "cell_type": "markdown",
   "metadata": {
    "id": "8rEpRt5N8sF3"
   },
   "source": [
    "## Named Entities Recognition"
   ]
  },
  {
   "cell_type": "code",
   "execution_count": null,
   "metadata": {
    "ExecuteTime": {
     "end_time": "2021-04-19T03:51:09.281708Z",
     "start_time": "2021-04-19T03:51:09.277538Z"
    },
    "id": "yLQ-kxmb8sF4"
   },
   "outputs": [],
   "source": [
    "from nltk import ne_chunk\n",
    "\n",
    "sent=\"New York City on Tuesday declared a public health emergency and ordered mandatory measles vaccinations amid an outbreak, becoming the latest national flash point over refusals to inoculate against dangerous diseases.\""
   ]
  },
  {
   "cell_type": "code",
   "execution_count": null,
   "metadata": {
    "ExecuteTime": {
     "end_time": "2021-04-19T03:52:29.189171Z",
     "start_time": "2021-04-19T03:52:29.172273Z"
    },
    "id": "zxucSX-q8sF4",
    "outputId": "7cf6fc28-0592-4d7d-fc6c-08ff0647528b"
   },
   "outputs": [
    {
     "data": {
      "text/plain": [
       "[('New', 'NNP'),\n",
       " ('York', 'NNP'),\n",
       " ('City', 'NNP'),\n",
       " ('on', 'IN'),\n",
       " ('Tuesday', 'NNP'),\n",
       " ('declared', 'VBD'),\n",
       " ('a', 'DT'),\n",
       " ('public', 'JJ'),\n",
       " ('health', 'NN'),\n",
       " ('emergency', 'NN'),\n",
       " ('and', 'CC'),\n",
       " ('ordered', 'VBD'),\n",
       " ('mandatory', 'JJ'),\n",
       " ('measles', 'NNS'),\n",
       " ('vaccinations', 'NNS'),\n",
       " ('amid', 'IN'),\n",
       " ('an', 'DT'),\n",
       " ('outbreak', 'NN'),\n",
       " (',', ','),\n",
       " ('becoming', 'VBG'),\n",
       " ('the', 'DT'),\n",
       " ('latest', 'JJS'),\n",
       " ('national', 'JJ'),\n",
       " ('flash', 'NN'),\n",
       " ('point', 'NN'),\n",
       " ('over', 'IN'),\n",
       " ('refusals', 'NNS'),\n",
       " ('to', 'TO'),\n",
       " ('inoculate', 'VB'),\n",
       " ('against', 'IN'),\n",
       " ('dangerous', 'JJ'),\n",
       " ('diseases', 'NNS'),\n",
       " ('.', '.')]"
      ]
     },
     "execution_count": 27,
     "metadata": {
      "tags": []
     },
     "output_type": "execute_result"
    }
   ],
   "source": [
    "pos_tag(word_tokenize(sent))"
   ]
  },
  {
   "cell_type": "code",
   "execution_count": null,
   "metadata": {
    "ExecuteTime": {
     "end_time": "2021-04-19T03:51:26.831758Z",
     "start_time": "2021-04-19T03:51:22.408095Z"
    },
    "id": "DgMuXiHa8sF4",
    "outputId": "4eca9483-aef9-4082-e8f3-ff3fcede6b0c"
   },
   "outputs": [
    {
     "data": {
      "image/png": "[encoded data removed]",
      "text/plain": [
       "Tree('S', [Tree('GPE', [('New', 'NNP'), ('York', 'NNP'), ('City', 'NNP')]), ('on', 'IN'), ('Tuesday', 'NNP'), ('declared', 'VBD'), ('a', 'DT'), ('public', 'JJ'), ('health', 'NN'), ('emergency', 'NN'), ('and', 'CC'), ('ordered', 'VBD'), ('mandatory', 'JJ'), ('measles', 'NNS'), ('vaccinations', 'NNS'), ('amid', 'IN'), ('an', 'DT'), ('outbreak', 'NN'), (',', ','), ('becoming', 'VBG'), ('the', 'DT'), ('latest', 'JJS'), ('national', 'JJ'), ('flash', 'NN'), ('point', 'NN'), ('over', 'IN'), ('refusals', 'NNS'), ('to', 'TO'), ('inoculate', 'VB'), ('against', 'IN'), ('dangerous', 'JJ'), ('diseases', 'NNS'), ('.', '.')])"
      ]
     },
     "execution_count": 26,
     "metadata": {
      "tags": []
     },
     "output_type": "execute_result"
    }
   ],
   "source": [
    "ne_chunk(pos_tag(word_tokenize(sent)))"
   ]
  },
  {
   "cell_type": "code",
   "execution_count": null,
   "metadata": {
    "ExecuteTime": {
     "end_time": "2021-04-19T04:17:40.174188Z",
     "start_time": "2021-04-19T04:17:40.145218Z"
    },
    "id": "FROvs5-P8sF4",
    "outputId": "76d92d50-5bc4-44ac-c89c-b2a029172685"
   },
   "outputs": [
    {
     "name": "stdout",
     "output_type": "stream",
     "text": [
      "GPE New York City\n"
     ]
    }
   ],
   "source": [
    "for chunk in ne_chunk(pos_tag(word_tokenize(sent))):\n",
    "        if hasattr(chunk, 'label'):\n",
    "            print(chunk.label(), ' '.join(c[0] for c in chunk))"
   ]
  },
  {
   "cell_type": "markdown",
   "metadata": {
    "ExecuteTime": {
     "end_time": "2021-04-13T05:25:07.219356Z",
     "start_time": "2021-04-13T05:25:07.201577Z"
    },
    "id": "2pTpKNKz8sF5"
   },
   "source": [
    "## WordCloud"
   ]
  },
  {
   "cell_type": "code",
   "execution_count": null,
   "metadata": {
    "ExecuteTime": {
     "end_time": "2021-04-13T05:25:38.023743Z",
     "start_time": "2021-04-13T05:25:13.352223Z"
    },
    "id": "Hv31Bzpt8sF5",
    "outputId": "94fabf86-6a81-43e0-e0e2-aea581efc013"
   },
   "outputs": [
    {
     "name": "stdout",
     "output_type": "stream",
     "text": [
      "/home/avinash/anaconda3/lib/python3.8/site-packages/secretstorage/dhcrypto.py:16: CryptographyDeprecationWarning: int_from_bytes is deprecated, use int.from_bytes instead\n",
      "  from cryptography.utils import int_from_bytes\n",
      "/home/avinash/anaconda3/lib/python3.8/site-packages/secretstorage/util.py:25: CryptographyDeprecationWarning: int_from_bytes is deprecated, use int.from_bytes instead\n",
      "  from cryptography.utils import int_from_bytes\n",
      "Requirement already satisfied: wordcloud in /home/avinash/anaconda3/lib/python3.8/site-packages (1.8.1)\n",
      "Requirement already satisfied: matplotlib in /home/avinash/anaconda3/lib/python3.8/site-packages (from wordcloud) (3.2.2)\n",
      "Requirement already satisfied: pillow in /home/avinash/anaconda3/lib/python3.8/site-packages (from wordcloud) (7.2.0)\n",
      "Requirement already satisfied: numpy>=1.6.1 in /home/avinash/anaconda3/lib/python3.8/site-packages (from wordcloud) (1.18.5)\n",
      "Requirement already satisfied: kiwisolver>=1.0.1 in /home/avinash/anaconda3/lib/python3.8/site-packages (from matplotlib->wordcloud) (1.2.0)\n",
      "Requirement already satisfied: pyparsing!=2.0.4,!=2.1.2,!=2.1.6,>=2.0.1 in /home/avinash/anaconda3/lib/python3.8/site-packages (from matplotlib->wordcloud) (2.4.7)\n",
      "Requirement already satisfied: cycler>=0.10 in /home/avinash/anaconda3/lib/python3.8/site-packages (from matplotlib->wordcloud) (0.10.0)\n",
      "Requirement already satisfied: python-dateutil>=2.1 in /home/avinash/anaconda3/lib/python3.8/site-packages (from matplotlib->wordcloud) (2.8.1)\n",
      "Requirement already satisfied: six in /home/avinash/anaconda3/lib/python3.8/site-packages (from cycler>=0.10->matplotlib->wordcloud) (1.15.0)\n"
     ]
    }
   ],
   "source": [
    "!pip install wordcloud"
   ]
  },
  {
   "cell_type": "code",
   "execution_count": null,
   "metadata": {
    "ExecuteTime": {
     "end_time": "2021-04-19T04:24:37.638073Z",
     "start_time": "2021-04-19T04:24:37.631382Z"
    },
    "id": "nlULJVcO8sF5",
    "outputId": "bbccc359-a5b0-4bec-c6f5-ec54f4f38719"
   },
   "outputs": [
    {
     "data": {
      "text/plain": [
       "'the nervous system and brain function do not often associate with infectious diseases, but numerous infectious agents affect the brain and peripheral neurons in deleterious ways. infectious agents often behave differently in the brain than in the circulation or other organs, complicating matters for scientists working to stop neurotropic infectious diseases.'"
      ]
     },
     "execution_count": 53,
     "metadata": {
      "tags": []
     },
     "output_type": "execute_result"
    }
   ],
   "source": [
    "text"
   ]
  },
  {
   "cell_type": "code",
   "execution_count": null,
   "metadata": {
    "ExecuteTime": {
     "end_time": "2021-04-19T04:26:15.843478Z",
     "start_time": "2021-04-19T04:26:15.506601Z"
    },
    "id": "3_GLBruj8sF5",
    "outputId": "dc2a2f39-30ce-45cc-94b6-fb1ff05dd41b"
   },
   "outputs": [
    {
     "data": {
      "image/png": "[encoded data removed]",
      "text/plain": [
       "<Figure size 576x432 with 1 Axes>"
      ]
     },
     "metadata": {
      "needs_background": "light",
      "tags": []
     },
     "output_type": "display_data"
    }
   ],
   "source": [
    "# Import WordCloud and STOPWORDS\n",
    "from wordcloud import WordCloud\n",
    "from wordcloud import STOPWORDS\n",
    "\n",
    "# Import matplotlib\n",
    "import matplotlib.pyplot as plt \n",
    "\n",
    "# Create stopword list\n",
    "stopword_list = set(STOPWORDS) \n",
    "\n",
    "# Create WordCloud \n",
    "word_cloud = WordCloud(width = 550, height = 550, \n",
    "                       background_color ='orange', \n",
    "                       stopwords = stopword_list, \n",
    "                       min_font_size = 12).generate(text) \n",
    "\n",
    "# Set wordcloud figure size\n",
    "plt.figure(figsize = (8, 6)) \n",
    "\n",
    "# Show image\n",
    "plt.imshow(word_cloud) \n",
    "\n",
    "# Remove Axis\n",
    "plt.axis(\"off\")  \n",
    "\n",
    "# save word cloud\n",
    "plt.savefig('wordcloud.jpeg',bbox_inches='tight')\n",
    "\n",
    "# show plot\n",
    "plt.show()"
   ]
  },
  {
   "cell_type": "code",
   "execution_count": null,
   "metadata": {
    "id": "OtW7dgWw8sF6"
   },
   "outputs": [],
   "source": []
  }
 ],
 "metadata": {
  "colab": {
   "name": "NLTK Tutorial.ipynb",
   "provenance": []
  },
  "kernelspec": {
   "display_name": "Python 3",
   "language": "python",
   "name": "python3"
  },
  "language_info": {
   "codemirror_mode": {
    "name": "ipython",
    "version": 3
   },
   "file_extension": ".py",
   "mimetype": "text/x-python",
   "name": "python",
   "nbconvert_exporter": "python",
   "pygments_lexer": "ipython3",
   "version": "3.8.8"
  },
  "toc": {
   "base_numbering": 1,
   "nav_menu": {},
   "number_sections": true,
   "sideBar": true,
   "skip_h1_title": false,
   "title_cell": "Table of Contents",
   "title_sidebar": "Contents",
   "toc_cell": false,
   "toc_position": {},
   "toc_section_display": true,
   "toc_window_display": true
  },
  "varInspector": {
   "cols": {
    "lenName": 16,
    "lenType": 16,
    "lenVar": 40
   },
   "kernels_config": {
    "python": {
     "delete_cmd_postfix": "",
     "delete_cmd_prefix": "del ",
     "library": "var_list.py",
     "varRefreshCmd": "print(var_dic_list())"
    },
    "r": {
     "delete_cmd_postfix": ") ",
     "delete_cmd_prefix": "rm(",
     "library": "var_list.r",
     "varRefreshCmd": "cat(var_dic_list()) "
    }
   },
   "types_to_exclude": [
    "module",
    "function",
    "builtin_function_or_method",
    "instance",
    "_Feature"
   ],
   "window_display": false
  }
 },
 "nbformat": 4,
 "nbformat_minor": 1
}
